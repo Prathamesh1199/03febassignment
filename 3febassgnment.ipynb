{
 "cells": [
  {
   "cell_type": "code",
   "execution_count": null,
   "id": "1900a8d9-2504-4d34-a4ba-6de1689f9562",
   "metadata": {},
   "outputs": [],
   "source": [
    "1: In Python the keyword \"def\" is used to create function.\n",
    "    Example: function that returns a lidt of odd numbers range 1 to 25\n",
    "    "
   ]
  },
  {
   "cell_type": "code",
   "execution_count": null,
   "id": "4a78ab7b-9676-4781-92b3-8fc115239f3d",
   "metadata": {},
   "outputs": [],
   "source": [
    "def odd_numbers(a):\n",
    "    odd_numbers = []\n",
    "    for i in range(1, a + 1):\n",
    "        if i % 2 != 0:\n",
    "            odd_numbers.append(i)\n",
    "    return odd_numbers\n",
    "\n",
    "print(odd_numbers(25))\n",
    "\n",
    "output\n",
    "[1, 3, 5, 7, 9, 11, 13, 15, 17, 19, 21, 23, 25]"
   ]
  },
  {
   "cell_type": "code",
   "execution_count": null,
   "id": "c283cda1-d059-4038-9bdf-ce1cc94c39ed",
   "metadata": {},
   "outputs": [],
   "source": []
  },
  {
   "cell_type": "code",
   "execution_count": null,
   "id": "246172e8-e131-467a-aafb-74ccc42c288f",
   "metadata": {},
   "outputs": [],
   "source": [
    "2: \"*args\" and \"**kwargs\" are used to pass a variable of arguments to a function, they allows to pass\n",
    "   'arbitary' number of arguments to function.\n",
    "      which can be useful in situations where we dont know beforehand,\n",
    "    how many arguments a function will receive....."
   ]
  },
  {
   "cell_type": "code",
   "execution_count": null,
   "id": "8893bf61-c50f-45a2-b5b9-4a23d150f924",
   "metadata": {},
   "outputs": [],
   "source": [
    "  *args is used to pass a non-keyworded, variable-length argument list to a function.\n",
    "For example:\n",
    "\n",
    "my_function(1, 2, 3)\n",
    "def my_function(*args):\n",
    "    for arg in args:\n",
    "        print(arg)\n",
    "\n",
    "output\n",
    "1\n",
    "2\n",
    "3"
   ]
  },
  {
   "cell_type": "code",
   "execution_count": null,
   "id": "bb4de284-7ec0-42f5-a671-8db604c4594c",
   "metadata": {},
   "outputs": [],
   "source": [
    "**kwargs is used to pass keyworded, variable-length arguments list to a function.\n",
    "For example:\n",
    "\n",
    "my_function(a=1, b=2, c=3)\n",
    "def my_function(**kwargs):\n",
    "    for key, value in kwargs.items():\n",
    "        print(f\"{key}: {value}\"\n",
    "              \n",
    "output\n",
    "a: 1\n",
    "b: 2\n",
    "c: 3"
   ]
  },
  {
   "cell_type": "code",
   "execution_count": null,
   "id": "2dd4df0c-c152-4180-9bd5-c4f26eaecb70",
   "metadata": {},
   "outputs": [],
   "source": []
  },
  {
   "cell_type": "code",
   "execution_count": null,
   "id": "f8d84464-7b77-45af-a819-f6cba141aa27",
   "metadata": {},
   "outputs": [],
   "source": [
    "3: In Python, an iterator is an object that can be iterated (looped) upon.\n",
    "   An object which will return data, one element at a time.\n",
    "   An object that implements the iterator protocol is considered an iterator\n",
    "    \n",
    "In Python, there are two methods used to create an iterator object..\n",
    " 1. iter() method: This method returns an iterator object from an iterable.\n",
    " 2. next() method: This method is used to retrieve the next item from an iterator...\n",
    "\n"
   ]
  },
  {
   "cell_type": "code",
   "execution_count": null,
   "id": "cb7296b3-cfa5-43d1-bb06-4341f3f87f69",
   "metadata": {},
   "outputs": [],
   "source": [
    "from the given infromation Here's an example that demonstrates,\n",
    "how to use the iter() and next() methods to print\n",
    "the first five elements of a given list [2, 4, 6, 8, 10, 12, 14, 16, 18, 20]:"
   ]
  },
  {
   "cell_type": "code",
   "execution_count": null,
   "id": "cbc97ac3-c021-49c4-95f6-61fb8edeb55a",
   "metadata": {},
   "outputs": [],
   "source": [
    "l = [2, 4, 6, 8, 10, 12, 14, 16, 18, 20]\n",
    "my_iter = iter(l)\n",
    "for i in range(5):\n",
    "    print(next(my_iter))\n",
    "    \n",
    "output:   \n",
    "2\n",
    "4\n",
    "6\n",
    "8\n",
    "10"
   ]
  },
  {
   "cell_type": "code",
   "execution_count": null,
   "id": "d7a94385-405d-480a-ba05-21f0bddf358f",
   "metadata": {},
   "outputs": [],
   "source": []
  },
  {
   "cell_type": "code",
   "execution_count": null,
   "id": "7598a97a-4179-48f9-ba30-6fb473019aab",
   "metadata": {},
   "outputs": [],
   "source": [
    "4: In Python, a generator function is a type of function that creates an iterator.\n",
    "    It's different from a regular function because instead of using,\n",
    "    the return keyword to return a value, it uses the yield keyword.\n",
    " When a generator function is called, it returns an iterator \n",
    "    that can be used to generate values one at a time."
   ]
  },
  {
   "cell_type": "code",
   "execution_count": null,
   "id": "0cfd7c4c-4e95-49e3-8d1f-3c738b7a4068",
   "metadata": {},
   "outputs": [],
   "source": [
    "Here \"yield\" keyword is used to return a value from\n",
    "   the generator function and pause its execution...\n",
    " This allows generate a sequence of values without \n",
    "       storing all of them in memory at once.\n",
    "[ When the generator function is called again,\n",
    "    it continues from where it left off,\n",
    "     allowing you to generate the next value in the sequence]."
   ]
  },
  {
   "cell_type": "code",
   "execution_count": null,
   "id": "647d6712-a3c9-4bf5-a0e4-e08f272aad9f",
   "metadata": {},
   "outputs": [],
   "source": [
    "Example:\n",
    "    \n",
    "def fibonacci(n):\n",
    "    a, b = 0, 1\n",
    "    for i in range(n):\n",
    "        yield a\n",
    "        a, b = b, a + b\n",
    "l = fibonacci(5)\n",
    "for i in l:\n",
    "    print(i)\n",
    "    \n",
    "output\n",
    "1\n",
    "1\n",
    "2\n",
    "3\n"
   ]
  },
  {
   "cell_type": "code",
   "execution_count": null,
   "id": "e98838f2-b3af-4a64-9dcd-a091aaa201c5",
   "metadata": {},
   "outputs": [],
   "source": []
  },
  {
   "cell_type": "code",
   "execution_count": null,
   "id": "6dfd7651-9b93-4d2f-8457-efe28205622d",
   "metadata": {},
   "outputs": [],
   "source": [
    "5: example of a generator function that generates the prime numbers less than 1000;\n",
    " \n",
    "def prime_numbers():\n",
    "    l = []\n",
    "    n = 2\n",
    "    while n < 1000:\n",
    "        for p in l:\n",
    "            if n % p == 0:\n",
    "                break\n",
    "        else:\n",
    "            l.append(n)\n",
    "            yield n\n",
    "        n += 1\n",
    "gen = prime_numbers()\n",
    "for i in range(20):\n",
    "    print(next(gen))\n",
    "    \n",
    "output:\n",
    "2\n",
    "3\n",
    "5\n",
    "7\n",
    "11\n",
    "13\n",
    "17\n",
    "19\n",
    "23\n",
    "29\n",
    "31\n",
    "37\n",
    "41\n",
    "43\n",
    "47\n",
    "53\n",
    "59\n",
    "61\n",
    "67\n",
    "71"
   ]
  },
  {
   "cell_type": "code",
   "execution_count": null,
   "id": "f1638276-f7b0-44f1-9658-e795f3f93acb",
   "metadata": {},
   "outputs": [],
   "source": []
  },
  {
   "cell_type": "code",
   "execution_count": null,
   "id": "41dfc248-3dec-4e02-af87-c50a60800845",
   "metadata": {},
   "outputs": [],
   "source": [
    "6: Here's a Python program that uses a while loop\n",
    "     to print the first 10 Fibonacci numbers:\n",
    "Example:\n",
    "    \n",
    "a, b = 0, 1\n",
    "counter = 0\n",
    "while counter < 10:\n",
    "    print(a)\n",
    "    a, b = b, a + b\n",
    "    counter += 1\n",
    "    \n",
    "output:\n",
    "0\n",
    "1\n",
    "1\n",
    "2\n",
    "3\n",
    "5\n",
    "8\n",
    "13\n",
    "21\n",
    "34\n",
    "    "
   ]
  },
  {
   "cell_type": "code",
   "execution_count": null,
   "id": "65cbbf70-1c99-4e7e-a3c7-0cf2ef900eae",
   "metadata": {},
   "outputs": [],
   "source": []
  },
  {
   "cell_type": "code",
   "execution_count": null,
   "id": "97fb5a7f-9a13-462d-a2cb-3190c1232f6b",
   "metadata": {},
   "outputs": [],
   "source": [
    "7: Given str = \"pwskills\":\n",
    "    \n",
    "string = 'pwskills'\n",
    "# Create a list comprehension to iterate through the string\n",
    "result = [char for char in string]\n",
    "\n",
    "print(result)\n",
    "\n",
    "output:\n",
    "['p', 'w', 's', 'k', 'i', 'l', 'l', 's']\n",
    "\n",
    "\n",
    "In this example, the list comprehension [char for char in string] iterates through\n",
    "each character in the string 'pwskills', and adds each character to the result list.\n",
    "The resulting list result is then printed, which contains all the characters from\n",
    "the original string.\n",
    "\n",
    "\n",
    "\n",
    "\n"
   ]
  },
  {
   "cell_type": "code",
   "execution_count": null,
   "id": "1ac767cd-a0de-4916-bc79-671599dc5a2d",
   "metadata": {},
   "outputs": [],
   "source": []
  },
  {
   "cell_type": "code",
   "execution_count": null,
   "id": "9db8f925-fe8e-4bec-b94d-abc2dc88ba48",
   "metadata": {},
   "outputs": [],
   "source": [
    "8: A palindrome number is a number that remains the same \n",
    "   even if its digits are reversed.\n",
    " In Python, you can check if a given number is a palindrome using a while loop.\n",
    "Here's an example of how you can do this: \n",
    "\n",
    "def is_palindrome(n):\n",
    "    num = n\n",
    "    rev = 0\n",
    "    while num > 0:\n",
    "        rev = (rev * 10) + (num % 10)\n",
    "        num = num // 10\n",
    "    return n == rev\n",
    "\n",
    "num = int(input(\"Enter a number: \"))\n",
    "if is_palindrome(num):\n",
    "    print(\"The number is a Palindrome.\")\n",
    "else:\n",
    "    print(\"The number is not a Palindrome.\")  \n",
    "    \n",
    "here, The program takes an integer as input and checks if it is a palindrome\n",
    "or not by reversing the number and comparing it with the original number.\n",
    "If both are equal, the number is a palindrome, otherwise, it is not.    \n",
    "\n"
   ]
  },
  {
   "cell_type": "code",
   "execution_count": null,
   "id": "0ad7506b-c675-491e-a257-25f014239b7d",
   "metadata": {},
   "outputs": [],
   "source": []
  },
  {
   "cell_type": "code",
   "execution_count": null,
   "id": "9fd67088-2e26-4e37-b4b8-3b5d08e2399a",
   "metadata": {},
   "outputs": [],
   "source": [
    "9: The first code generates a list of numbers from 1 to 100:\n",
    "    \n",
    "numbers = [x for x in range(1, 101)]\n",
    "print(numbers)\n",
    "\n",
    "output:\n",
    "[1, 2, 3, 4, 5, 6, 7, 8, 9, 10, 11, 12, 13, 14, 15, 16, 17, 18, 19,\n",
    " 20, 21, 22, 23, 24, 25, 26, 27, 28, 29, 30, 31, 32, 33, 34, 35, 36,\n",
    " 37, 38, 39, 40, 41, 42, 43, 44, 45, 46, 47, 48, 49, 50, 51, 52, 53,\n",
    " 54, 55, 56, 57, 58, 59, 60, 61, 62, 63, 64, 65, 66, 67, 68, 69, 70,\n",
    " 71, 72, 73, 74, 75, 76, 77, 78, 79, 80, 81, 82, 83, 84, 85, 86, 87,\n",
    " 88, 89, 90, 91, 92, 93, 94, 95, 96, 97, 98, 99, 100]\n",
    "\n",
    "\n",
    "The second code filters out the odd numbers from the list:\n",
    "    \n",
    "odd_numbers = [x for x in numbers if x % 2 != 0]\n",
    "print(odd_numbers)\n",
    "   \n",
    "output:\n",
    "\n",
    "[1, 3, 5, 7, 9, 11, 13, 15, 17, 19, 21, 23, 25, 27, 29, 31, 33, 35, 37,\n",
    " 39, 41, 43, 45, 47, 49, 51, 53, 55, 57, 59, 61, 63, 65, 67, 69, 71, 73,\n",
    " 75, 77, 79, 81, 83, 85, 87, 89, 91, 93, 95, 97, 99]\n"
   ]
  },
  {
   "cell_type": "code",
   "execution_count": null,
   "id": "2d4eaba4-4e7a-4663-be32-437d4986797b",
   "metadata": {},
   "outputs": [],
   "source": []
  },
  {
   "cell_type": "code",
   "execution_count": null,
   "id": "7890336b-84e7-4ffb-9880-81979f69681b",
   "metadata": {},
   "outputs": [],
   "source": []
  },
  {
   "cell_type": "code",
   "execution_count": null,
   "id": "66baef33-f0b8-4fda-ba52-8c1dd1799088",
   "metadata": {},
   "outputs": [],
   "source": []
  }
 ],
 "metadata": {
  "kernelspec": {
   "display_name": "Python 3 (ipykernel)",
   "language": "python",
   "name": "python3"
  },
  "language_info": {
   "codemirror_mode": {
    "name": "ipython",
    "version": 3
   },
   "file_extension": ".py",
   "mimetype": "text/x-python",
   "name": "python",
   "nbconvert_exporter": "python",
   "pygments_lexer": "ipython3",
   "version": "3.10.8"
  }
 },
 "nbformat": 4,
 "nbformat_minor": 5
}
